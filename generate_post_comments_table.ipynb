{
 "cells": [
  {
   "cell_type": "markdown",
   "id": "43b0c18a",
   "metadata": {},
   "source": [
    "# Libraries"
   ]
  },
  {
   "cell_type": "code",
   "execution_count": 3,
   "id": "cc12fd7d",
   "metadata": {},
   "outputs": [],
   "source": [
    "import contractions\n",
    "import language_tool_python\n",
    "import os\n",
    "import re\n",
    "import pandas as pd\n",
    "from fastpunct import FastPunct\n",
    "from language_tool_python.utils import correct\n",
    "from punctfix import PunctFixer\n",
    "from spellchecker import SpellChecker\n",
    "from symspellpy import SymSpell, Verbosity\n",
    "from textblob import TextBlob"
   ]
  },
  {
   "cell_type": "markdown",
   "id": "c5c4fd3f",
   "metadata": {},
   "source": [
    "# Helper Functions"
   ]
  },
  {
   "cell_type": "markdown",
   "id": "c1e55afa",
   "metadata": {},
   "source": [
    "## check_text()"
   ]
  },
  {
   "cell_type": "markdown",
   "id": "97c3320a",
   "metadata": {},
   "source": [
    "### Contractions + PySpellChecker + LanguageTool"
   ]
  },
  {
   "cell_type": "code",
   "execution_count": 13,
   "id": "bcdd38ef",
   "metadata": {},
   "outputs": [],
   "source": [
    "# set up Java environment for LanguageTool\n",
    "java_home = r\"C:\\Program Files\\Eclipse Adoptium\\jdk-21.0.8.9-hotspot\"\n",
    "os.environ[\"JAVA_HOME\"] = java_home\n",
    "os.environ[\"PATH\"] = java_home + r\"\\bin;\" + os.environ[\"PATH\"]\n",
    "\n",
    "# Initialize LanguageTool for english\n",
    "tool = language_tool_python.LanguageTool('en')  # English\n",
    "\n",
    "# Function to check and correct text\n",
    "def check_text(text):\n",
    "    print(\"This uses Contractions + LanguageTool + PySpellChecker\")\n",
    "    # Expand contractions\n",
    "    text = contractions.fix(text)\n",
    "\n",
    "    # Check grammar only\n",
    "    matches = tool.check(text)\n",
    "    text = language_tool_python.utils.correct(text, matches)\n",
    "\n",
    "    # Check for spelling errors\n",
    "    spell = SpellChecker()\n",
    "    \n",
    "    # Tokenize while preserving punctuation\n",
    "    tokens = re.findall(r\"\\w+|[^\\w\\s]\", text, re.UNICODE)\n",
    "    \n",
    "    corrected_tokens = []\n",
    "    for token in tokens:\n",
    "        if token.isalpha():\n",
    "            corrected = spell.correction(token)\n",
    "            corrected_tokens.append(corrected if corrected else token)\n",
    "        else:\n",
    "            corrected_tokens.append(token)\n",
    "    \n",
    "    # Reconstruct the paragraph\n",
    "    corrected_text = \"\"\n",
    "    for i, token in enumerate(corrected_tokens):\n",
    "        if i > 0:\n",
    "            prev = corrected_tokens[i - 1]\n",
    "            # Add space if both current and previous tokens are alphanumeric\n",
    "            if (token.isalnum() and prev.isalnum()) or (prev.isalnum() and token in ['(', '[']):\n",
    "                corrected_text += \" \"\n",
    "            # Add space after punctuation if needed\n",
    "            elif prev in ['.', ',', ';', ':', '?', '!'] and token.isalnum():\n",
    "                corrected_text += \" \"\n",
    "        corrected_text += token\n",
    "\n",
    "    return corrected_text"
   ]
  },
  {
   "cell_type": "markdown",
   "id": "07d92f82",
   "metadata": {},
   "source": [
    "# Read Posts and Comments Data"
   ]
  },
  {
   "cell_type": "code",
   "execution_count": 6,
   "id": "30eaaf63",
   "metadata": {},
   "outputs": [
    {
     "data": {
      "text/html": [
       "<div>\n",
       "<style scoped>\n",
       "    .dataframe tbody tr th:only-of-type {\n",
       "        vertical-align: middle;\n",
       "    }\n",
       "\n",
       "    .dataframe tbody tr th {\n",
       "        vertical-align: top;\n",
       "    }\n",
       "\n",
       "    .dataframe thead th {\n",
       "        text-align: right;\n",
       "    }\n",
       "</style>\n",
       "<table border=\"1\" class=\"dataframe\">\n",
       "  <thead>\n",
       "    <tr style=\"text-align: right;\">\n",
       "      <th></th>\n",
       "      <th>Post_ID</th>\n",
       "      <th>Post_Title</th>\n",
       "      <th>Post_Content</th>\n",
       "      <th>Post_Author</th>\n",
       "      <th>Post_Author_Rank</th>\n",
       "      <th>Post_Date</th>\n",
       "      <th>Post_Category</th>\n",
       "      <th>Number_of_Comments</th>\n",
       "      <th>Post_URL</th>\n",
       "    </tr>\n",
       "  </thead>\n",
       "  <tbody>\n",
       "    <tr>\n",
       "      <th>0</th>\n",
       "      <td>Anxi-1</td>\n",
       "      <td>I’m stuck!</td>\n",
       "      <td>I’ve never written on a forum like this before...</td>\n",
       "      <td>Guest_39557583</td>\n",
       "      <td>Community Member</td>\n",
       "      <td>20-06-2025</td>\n",
       "      <td>Anxiety</td>\n",
       "      <td>6</td>\n",
       "      <td>/t5/anxiety/i-m-stuck/td-p/611578</td>\n",
       "    </tr>\n",
       "    <tr>\n",
       "      <th>1</th>\n",
       "      <td>Anxi-2</td>\n",
       "      <td>Back injury anxiety</td>\n",
       "      <td>Hi. I'm new here. I am extremely anxious when ...</td>\n",
       "      <td>Guest42</td>\n",
       "      <td>Community Member</td>\n",
       "      <td>10-07-2025</td>\n",
       "      <td>Anxiety</td>\n",
       "      <td>0</td>\n",
       "      <td>/t5/anxiety/back-injury-anxiety/td-p/612114</td>\n",
       "    </tr>\n",
       "    <tr>\n",
       "      <th>2</th>\n",
       "      <td>Anxi-3</td>\n",
       "      <td>Anxiety, Injustice, and Fear: Workplace Exploi...</td>\n",
       "      <td>Hi everyone,I’m going through one of the most ...</td>\n",
       "      <td>Joker_J</td>\n",
       "      <td>Community Member</td>\n",
       "      <td>09-07-2025</td>\n",
       "      <td>Anxiety</td>\n",
       "      <td>1</td>\n",
       "      <td>/t5/anxiety/anxiety-injustice-and-fear-workpla...</td>\n",
       "    </tr>\n",
       "    <tr>\n",
       "      <th>3</th>\n",
       "      <td>Anxi-4</td>\n",
       "      <td>Im lost and wasn't sure what should I do next.</td>\n",
       "      <td>I am international student to Tasmania in 2021...</td>\n",
       "      <td>tevont</td>\n",
       "      <td>Community Member</td>\n",
       "      <td>20-06-2025</td>\n",
       "      <td>Anxiety</td>\n",
       "      <td>2</td>\n",
       "      <td>/t5/anxiety/im-lost-and-wasn-t-sure-what-shoul...</td>\n",
       "    </tr>\n",
       "    <tr>\n",
       "      <th>4</th>\n",
       "      <td>Anxi-5</td>\n",
       "      <td>Just broke free from rude friend and I still f...</td>\n",
       "      <td>Recently, I have left my old friend who would ...</td>\n",
       "      <td>waffle_puppy</td>\n",
       "      <td>Community Member</td>\n",
       "      <td>27-06-2025</td>\n",
       "      <td>Anxiety</td>\n",
       "      <td>3</td>\n",
       "      <td>/t5/anxiety/just-broke-free-from-rude-friend-a...</td>\n",
       "    </tr>\n",
       "  </tbody>\n",
       "</table>\n",
       "</div>"
      ],
      "text/plain": [
       "  Post_ID                                         Post_Title  \\\n",
       "0  Anxi-1                                         I’m stuck!   \n",
       "1  Anxi-2                                Back injury anxiety   \n",
       "2  Anxi-3  Anxiety, Injustice, and Fear: Workplace Exploi...   \n",
       "3  Anxi-4     Im lost and wasn't sure what should I do next.   \n",
       "4  Anxi-5  Just broke free from rude friend and I still f...   \n",
       "\n",
       "                                        Post_Content     Post_Author  \\\n",
       "0  I’ve never written on a forum like this before...  Guest_39557583   \n",
       "1  Hi. I'm new here. I am extremely anxious when ...         Guest42   \n",
       "2  Hi everyone,I’m going through one of the most ...         Joker_J   \n",
       "3  I am international student to Tasmania in 2021...          tevont   \n",
       "4  Recently, I have left my old friend who would ...    waffle_puppy   \n",
       "\n",
       "   Post_Author_Rank   Post_Date Post_Category  Number_of_Comments  \\\n",
       "0  Community Member  20-06-2025       Anxiety                   6   \n",
       "1  Community Member  10-07-2025       Anxiety                   0   \n",
       "2  Community Member  09-07-2025       Anxiety                   1   \n",
       "3  Community Member  20-06-2025       Anxiety                   2   \n",
       "4  Community Member  27-06-2025       Anxiety                   3   \n",
       "\n",
       "                                            Post_URL  \n",
       "0                  /t5/anxiety/i-m-stuck/td-p/611578  \n",
       "1        /t5/anxiety/back-injury-anxiety/td-p/612114  \n",
       "2  /t5/anxiety/anxiety-injustice-and-fear-workpla...  \n",
       "3  /t5/anxiety/im-lost-and-wasn-t-sure-what-shoul...  \n",
       "4  /t5/anxiety/just-broke-free-from-rude-friend-a...  "
      ]
     },
     "execution_count": 6,
     "metadata": {},
     "output_type": "execute_result"
    }
   ],
   "source": [
    "posts_df = pd.read_csv('./data/BeyondBlue/conditions_data_post_stitched.csv')\n",
    "comments_df = pd.read_csv('./data/BeyondBlue/data_comments_stitched.csv')\n",
    "posts_df.head()"
   ]
  },
  {
   "cell_type": "markdown",
   "id": "e91c4a4b",
   "metadata": {},
   "source": [
    "# Testing the check_text() functions"
   ]
  },
  {
   "cell_type": "code",
   "execution_count": 14,
   "id": "4085d5dc",
   "metadata": {},
   "outputs": [
    {
     "name": "stdout",
     "output_type": "stream",
     "text": [
      "Original:\n",
      " My name is Dennis, I am 77, married to an amazing lady for 55years who has been with me through thick and thin. I have had anxiety even before I knew the word. I try not to blame my condition on my early childhood but it is so hard. My last relapse was triggered when we moved to a rural area and I couldn't handle it so we returned to Adelaide and rented the house.i am at present being treated by The Older Persons Health Team who I cannot speak to highly about. Up to now I have not been one to conform to medication but I relize if I don't I won' t get better. Can anyone suggest more up to date texts on anxiety? \n",
      "\n",
      "This uses Contractions + LanguageTool + PySpellChecker\n",
      "Corrected:\n",
      " My name is Dennis, I am 77, married to an amazing lady for 55 years who has been with me through thick and thin. I have had anxiety even before I knew the word. I try not to blame my condition on my early childhood but it is so hard. My last relapse was triggered when we moved to a rural area and I could not handle it so we returned to Adelaide and rented the house. I am at present being treated by The Older Persons Health Team who I cannot speak to highly about. Up to now I have not been one to conform to medication but I realize if I do not I won't get better. Can anyone suggest more up-to-date texts on anxiety?\n"
     ]
    }
   ],
   "source": [
    "# Sample one observation and apply check_text() to its Post_Content\n",
    "sample = posts_df.sample(n=1, random_state=42).iloc[0]\n",
    "col = 'Post_Content' if 'Post_Content' in posts_df.columns else posts_df.columns[0]\n",
    "original = sample[col]\n",
    "print(\"Original:\\n\", original, \"\\n\")\n",
    "if isinstance(original, str) and original.strip():\n",
    "    corrected = check_text(original)\n",
    "else:\n",
    "    corrected = original\n",
    "print(\"Corrected:\\n\", corrected)"
   ]
  },
  {
   "cell_type": "markdown",
   "id": "2aa09a62",
   "metadata": {},
   "source": [
    "# List of all Comment_Author_Rank"
   ]
  },
  {
   "cell_type": "code",
   "execution_count": 4,
   "id": "72e37296",
   "metadata": {},
   "outputs": [
    {
     "name": "stdout",
     "output_type": "stream",
     "text": [
      "['Beyond Blue Staff', 'Blue Voices Member', 'Champion Alumni', 'Community Champion', 'Community Member', 'Moderator', 'Valued Contributor']\n"
     ]
    }
   ],
   "source": [
    "unique_ranks = sorted(comments_df['Comment_Author_Rank'].dropna().unique())\n",
    "print(unique_ranks)"
   ]
  },
  {
   "cell_type": "code",
   "execution_count": null,
   "id": "fb641782",
   "metadata": {},
   "outputs": [
    {
     "name": "stdout",
     "output_type": "stream",
     "text": [
      "\n",
      "--- Post 1 (Post_ID=Depr-6474) ---\n",
      "\n",
      "I broke down again yesterday and wanted to end it all. I would never do it, but its the only thought that I have atm. I think about how bad I feel every day and I just want these feelings to go away. I dont know where to go from here. I feel like I just exist with no purpose what so ever. I have lost the will and motivation for life and have completely lost myself in the process and it scares me that I will never feel happy again. I just feel empty inside. I go to work as a distraction and try to fill up my weekend with things to do, but I dont get any enjoyment out of it. I feel like I have hit rock bottom and I am trying to get out of it, but I dont know where to go from here. I feel so alone, even though I have good friends, I just don't feel they understand. I feel guilty because my family know that I am not being myself but I dont know how to find myself again. I am on anti-depressants and am seeing a psychologist, but I feel like its not enough atm....I am so lost\n"
     ]
    }
   ],
   "source": [
    "\n",
    "post_id = 'Depr-6474'\n",
    "\n",
    "if 'Post_ID' not in posts_df.columns:\n",
    "    print(\"Column 'Post_ID' not found in posts_df\")\n",
    "else:\n",
    "    match = posts_df.loc[posts_df['Post_ID'] == post_id, 'Post_Content']\n",
    "    if match.empty:\n",
    "        print(f\"No post found with Post_ID {post_id}\")\n",
    "    else:\n",
    "        for i, content in enumerate(match.tolist(), 1):\n",
    "            print(f\"\\n--- Post {i} (Post_ID={post_id}) ---\\n\")\n",
    "            if isinstance(content, str):\n",
    "                print(content)\n",
    "            else:\n",
    "                print(repr(content))\n"
   ]
  },
  {
   "cell_type": "code",
   "execution_count": 18,
   "id": "51904b8d",
   "metadata": {},
   "outputs": [
    {
     "data": {
      "text/plain": [
       "'This is a sample text with an error I live with my mother she is nice'"
      ]
     },
     "execution_count": 18,
     "metadata": {},
     "output_type": "execute_result"
    }
   ],
   "source": [
    "a = \"This is a sample text with a error I live with my mother she is nice\"\n",
    "check_text(a)"
   ]
  },
  {
   "cell_type": "markdown",
   "id": "667966c4",
   "metadata": {},
   "source": [
    "# Cross Encoders"
   ]
  },
  {
   "cell_type": "code",
   "execution_count": null,
   "id": "0665cc8a",
   "metadata": {},
   "outputs": [
    {
     "name": "stdout",
     "output_type": "stream",
     "text": [
      "[0.9998173 0.0131243]\n"
     ]
    }
   ],
   "source": [
    "from sentence_transformers import CrossEncoder\n",
    "import torch\n",
    "\n",
    "# Load the pretrained CrossEncoder\n",
    "model = CrossEncoder('cross-encoder/ms-marco-MiniLM-L6-v2', activation_fn=torch.nn.Sigmoid())\n",
    "\n",
    "\n"
   ]
  },
  {
   "cell_type": "code",
   "execution_count": 38,
   "id": "9d11e7f0",
   "metadata": {},
   "outputs": [
    {
     "name": "stdout",
     "output_type": "stream",
     "text": [
      "[0.0005176 0.0131243]\n"
     ]
    }
   ],
   "source": [
    "# Example: scoring two candidate passages for a query\n",
    "pairs = [\n",
    "    (\"Does the patient want to end their life?\",\n",
    "     \"I broke down again yesterday and wanted to end it all.\"),\n",
    "    (\"How many people live in Berlin?\",\n",
    "     \"Berlin is well known for its museums.\")\n",
    "]\n",
    "\n",
    "scores = model.predict(pairs)\n",
    "print(scores)  # Higher score = more relevant"
   ]
  }
 ],
 "metadata": {
  "kernelspec": {
   "display_name": "Python 3",
   "language": "python",
   "name": "python3"
  },
  "language_info": {
   "codemirror_mode": {
    "name": "ipython",
    "version": 3
   },
   "file_extension": ".py",
   "mimetype": "text/x-python",
   "name": "python",
   "nbconvert_exporter": "python",
   "pygments_lexer": "ipython3",
   "version": "3.12.10"
  }
 },
 "nbformat": 4,
 "nbformat_minor": 5
}
