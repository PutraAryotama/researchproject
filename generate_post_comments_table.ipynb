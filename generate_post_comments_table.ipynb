{
 "cells": [
  {
   "cell_type": "markdown",
   "id": "43b0c18a",
   "metadata": {},
   "source": [
    "# Libraries"
   ]
  },
  {
   "cell_type": "code",
   "execution_count": 28,
   "id": "cc12fd7d",
   "metadata": {},
   "outputs": [],
   "source": [
    "import contractions\n",
    "import language_tool_python\n",
    "import os\n",
    "import re\n",
    "import pandas as pd\n",
    "from language_tool_python.utils import correct\n",
    "from spellchecker import SpellChecker\n",
    "from tqdm.notebook import tqdm\n",
    "tqdm.pandas()  # enable tqdm for pandas"
   ]
  },
  {
   "cell_type": "markdown",
   "id": "07d92f82",
   "metadata": {},
   "source": [
    "# Read Posts and Comments Data"
   ]
  },
  {
   "cell_type": "code",
   "execution_count": 88,
   "id": "30eaaf63",
   "metadata": {},
   "outputs": [
    {
     "data": {
      "text/html": [
       "<div>\n",
       "<style scoped>\n",
       "    .dataframe tbody tr th:only-of-type {\n",
       "        vertical-align: middle;\n",
       "    }\n",
       "\n",
       "    .dataframe tbody tr th {\n",
       "        vertical-align: top;\n",
       "    }\n",
       "\n",
       "    .dataframe thead th {\n",
       "        text-align: right;\n",
       "    }\n",
       "</style>\n",
       "<table border=\"1\" class=\"dataframe\">\n",
       "  <thead>\n",
       "    <tr style=\"text-align: right;\">\n",
       "      <th></th>\n",
       "      <th>Post_ID</th>\n",
       "      <th>Post_Title</th>\n",
       "      <th>Post_Content</th>\n",
       "      <th>Post_Author</th>\n",
       "      <th>Post_Author_Rank</th>\n",
       "      <th>Post_Date</th>\n",
       "      <th>Post_Category</th>\n",
       "      <th>Number_of_Comments</th>\n",
       "      <th>Post_URL</th>\n",
       "    </tr>\n",
       "  </thead>\n",
       "  <tbody>\n",
       "    <tr>\n",
       "      <th>0</th>\n",
       "      <td>Anxi-1</td>\n",
       "      <td>I’m stuck!</td>\n",
       "      <td>I’ve never written on a forum like this before...</td>\n",
       "      <td>Guest_39557583</td>\n",
       "      <td>Community Member</td>\n",
       "      <td>20-06-2025</td>\n",
       "      <td>Anxiety</td>\n",
       "      <td>6</td>\n",
       "      <td>/t5/anxiety/i-m-stuck/td-p/611578</td>\n",
       "    </tr>\n",
       "    <tr>\n",
       "      <th>1</th>\n",
       "      <td>Anxi-2</td>\n",
       "      <td>Back injury anxiety</td>\n",
       "      <td>Hi. I'm new here. I am extremely anxious when ...</td>\n",
       "      <td>Guest42</td>\n",
       "      <td>Community Member</td>\n",
       "      <td>10-07-2025</td>\n",
       "      <td>Anxiety</td>\n",
       "      <td>0</td>\n",
       "      <td>/t5/anxiety/back-injury-anxiety/td-p/612114</td>\n",
       "    </tr>\n",
       "    <tr>\n",
       "      <th>2</th>\n",
       "      <td>Anxi-3</td>\n",
       "      <td>Anxiety, Injustice, and Fear: Workplace Exploi...</td>\n",
       "      <td>Hi everyone,I’m going through one of the most ...</td>\n",
       "      <td>Joker_J</td>\n",
       "      <td>Community Member</td>\n",
       "      <td>09-07-2025</td>\n",
       "      <td>Anxiety</td>\n",
       "      <td>1</td>\n",
       "      <td>/t5/anxiety/anxiety-injustice-and-fear-workpla...</td>\n",
       "    </tr>\n",
       "    <tr>\n",
       "      <th>3</th>\n",
       "      <td>Anxi-4</td>\n",
       "      <td>Im lost and wasn't sure what should I do next.</td>\n",
       "      <td>I am international student to Tasmania in 2021...</td>\n",
       "      <td>tevont</td>\n",
       "      <td>Community Member</td>\n",
       "      <td>20-06-2025</td>\n",
       "      <td>Anxiety</td>\n",
       "      <td>2</td>\n",
       "      <td>/t5/anxiety/im-lost-and-wasn-t-sure-what-shoul...</td>\n",
       "    </tr>\n",
       "    <tr>\n",
       "      <th>4</th>\n",
       "      <td>Anxi-5</td>\n",
       "      <td>Just broke free from rude friend and I still f...</td>\n",
       "      <td>Recently, I have left my old friend who would ...</td>\n",
       "      <td>waffle_puppy</td>\n",
       "      <td>Community Member</td>\n",
       "      <td>27-06-2025</td>\n",
       "      <td>Anxiety</td>\n",
       "      <td>3</td>\n",
       "      <td>/t5/anxiety/just-broke-free-from-rude-friend-a...</td>\n",
       "    </tr>\n",
       "  </tbody>\n",
       "</table>\n",
       "</div>"
      ],
      "text/plain": [
       "  Post_ID                                         Post_Title  \\\n",
       "0  Anxi-1                                         I’m stuck!   \n",
       "1  Anxi-2                                Back injury anxiety   \n",
       "2  Anxi-3  Anxiety, Injustice, and Fear: Workplace Exploi...   \n",
       "3  Anxi-4     Im lost and wasn't sure what should I do next.   \n",
       "4  Anxi-5  Just broke free from rude friend and I still f...   \n",
       "\n",
       "                                        Post_Content     Post_Author  \\\n",
       "0  I’ve never written on a forum like this before...  Guest_39557583   \n",
       "1  Hi. I'm new here. I am extremely anxious when ...         Guest42   \n",
       "2  Hi everyone,I’m going through one of the most ...         Joker_J   \n",
       "3  I am international student to Tasmania in 2021...          tevont   \n",
       "4  Recently, I have left my old friend who would ...    waffle_puppy   \n",
       "\n",
       "   Post_Author_Rank   Post_Date Post_Category  Number_of_Comments  \\\n",
       "0  Community Member  20-06-2025       Anxiety                   6   \n",
       "1  Community Member  10-07-2025       Anxiety                   0   \n",
       "2  Community Member  09-07-2025       Anxiety                   1   \n",
       "3  Community Member  20-06-2025       Anxiety                   2   \n",
       "4  Community Member  27-06-2025       Anxiety                   3   \n",
       "\n",
       "                                            Post_URL  \n",
       "0                  /t5/anxiety/i-m-stuck/td-p/611578  \n",
       "1        /t5/anxiety/back-injury-anxiety/td-p/612114  \n",
       "2  /t5/anxiety/anxiety-injustice-and-fear-workpla...  \n",
       "3  /t5/anxiety/im-lost-and-wasn-t-sure-what-shoul...  \n",
       "4  /t5/anxiety/just-broke-free-from-rude-friend-a...  "
      ]
     },
     "execution_count": 88,
     "metadata": {},
     "output_type": "execute_result"
    }
   ],
   "source": [
    "posts_df = pd.read_csv('./data/BeyondBlue/conditions_data_post_stitched.csv')\n",
    "comments_df = pd.read_csv('./data/BeyondBlue/data_comments_stitched.csv')\n",
    "posts_df.head()"
   ]
  },
  {
   "cell_type": "code",
   "execution_count": 5,
   "id": "a78d9366",
   "metadata": {},
   "outputs": [
    {
     "data": {
      "text/html": [
       "<div>\n",
       "<style scoped>\n",
       "    .dataframe tbody tr th:only-of-type {\n",
       "        vertical-align: middle;\n",
       "    }\n",
       "\n",
       "    .dataframe tbody tr th {\n",
       "        vertical-align: top;\n",
       "    }\n",
       "\n",
       "    .dataframe thead th {\n",
       "        text-align: right;\n",
       "    }\n",
       "</style>\n",
       "<table border=\"1\" class=\"dataframe\">\n",
       "  <thead>\n",
       "    <tr style=\"text-align: right;\">\n",
       "      <th></th>\n",
       "      <th>Post_ID</th>\n",
       "      <th>Comment_ID</th>\n",
       "      <th>Comment_Content</th>\n",
       "      <th>Comment_Author</th>\n",
       "      <th>Comment_Author_Rank</th>\n",
       "      <th>Comment_Date</th>\n",
       "      <th>Comment_Datetime</th>\n",
       "      <th>Comment_Category</th>\n",
       "    </tr>\n",
       "  </thead>\n",
       "  <tbody>\n",
       "    <tr>\n",
       "      <th>0</th>\n",
       "      <td>Suic-1</td>\n",
       "      <td>Suic-1_comment-1</td>\n",
       "      <td>Hello and welcome. You matter. That you have w...</td>\n",
       "      <td>smallwolf</td>\n",
       "      <td>Community Champion</td>\n",
       "      <td>04-05-2025</td>\n",
       "      <td>2025-05-04 15:55:00</td>\n",
       "      <td>Suicidal thoughts and self-harm</td>\n",
       "    </tr>\n",
       "    <tr>\n",
       "      <th>1</th>\n",
       "      <td>Suic-1</td>\n",
       "      <td>Suic-1_comment-2</td>\n",
       "      <td>The warmest of welcomes to you at what sounds ...</td>\n",
       "      <td>therising</td>\n",
       "      <td>Valued Contributor</td>\n",
       "      <td>05-05-2025</td>\n",
       "      <td>2025-05-05 04:44:00</td>\n",
       "      <td>Suicidal thoughts and self-harm</td>\n",
       "    </tr>\n",
       "    <tr>\n",
       "      <th>2</th>\n",
       "      <td>Suic-1</td>\n",
       "      <td>Suic-1_comment-3</td>\n",
       "      <td>That sounds really tough and I can’t imagine w...</td>\n",
       "      <td>Ben5</td>\n",
       "      <td>Community Member</td>\n",
       "      <td>05-05-2025</td>\n",
       "      <td>2025-05-05 23:26:00</td>\n",
       "      <td>Suicidal thoughts and self-harm</td>\n",
       "    </tr>\n",
       "    <tr>\n",
       "      <th>3</th>\n",
       "      <td>Suic-1</td>\n",
       "      <td>Suic-1_comment-4</td>\n",
       "      <td>Thank you i appreciate your response. Professi...</td>\n",
       "      <td>Done_</td>\n",
       "      <td>Community Member</td>\n",
       "      <td>06-05-2025</td>\n",
       "      <td>2025-05-06 20:35:00</td>\n",
       "      <td>Suicidal thoughts and self-harm</td>\n",
       "    </tr>\n",
       "    <tr>\n",
       "      <th>4</th>\n",
       "      <td>Suic-1</td>\n",
       "      <td>Suic-1_comment-5</td>\n",
       "      <td>I didn’t expect anyone to respond or even ackn...</td>\n",
       "      <td>Done_</td>\n",
       "      <td>Community Member</td>\n",
       "      <td>06-05-2025</td>\n",
       "      <td>2025-05-06 20:53:00</td>\n",
       "      <td>Suicidal thoughts and self-harm</td>\n",
       "    </tr>\n",
       "  </tbody>\n",
       "</table>\n",
       "</div>"
      ],
      "text/plain": [
       "  Post_ID        Comment_ID  \\\n",
       "0  Suic-1  Suic-1_comment-1   \n",
       "1  Suic-1  Suic-1_comment-2   \n",
       "2  Suic-1  Suic-1_comment-3   \n",
       "3  Suic-1  Suic-1_comment-4   \n",
       "4  Suic-1  Suic-1_comment-5   \n",
       "\n",
       "                                     Comment_Content Comment_Author  \\\n",
       "0  Hello and welcome. You matter. That you have w...      smallwolf   \n",
       "1  The warmest of welcomes to you at what sounds ...      therising   \n",
       "2  That sounds really tough and I can’t imagine w...           Ben5   \n",
       "3  Thank you i appreciate your response. Professi...          Done_   \n",
       "4  I didn’t expect anyone to respond or even ackn...          Done_   \n",
       "\n",
       "  Comment_Author_Rank Comment_Date     Comment_Datetime  \\\n",
       "0  Community Champion   04-05-2025  2025-05-04 15:55:00   \n",
       "1  Valued Contributor   05-05-2025  2025-05-05 04:44:00   \n",
       "2    Community Member   05-05-2025  2025-05-05 23:26:00   \n",
       "3    Community Member   06-05-2025  2025-05-06 20:35:00   \n",
       "4    Community Member   06-05-2025  2025-05-06 20:53:00   \n",
       "\n",
       "                  Comment_Category  \n",
       "0  Suicidal thoughts and self-harm  \n",
       "1  Suicidal thoughts and self-harm  \n",
       "2  Suicidal thoughts and self-harm  \n",
       "3  Suicidal thoughts and self-harm  \n",
       "4  Suicidal thoughts and self-harm  "
      ]
     },
     "execution_count": 5,
     "metadata": {},
     "output_type": "execute_result"
    }
   ],
   "source": [
    "comments_df.head()"
   ]
  },
  {
   "cell_type": "code",
   "execution_count": 6,
   "id": "dce61930",
   "metadata": {},
   "outputs": [
    {
     "data": {
      "text/plain": [
       "100585"
      ]
     },
     "execution_count": 6,
     "metadata": {},
     "output_type": "execute_result"
    }
   ],
   "source": [
    "len(comments_df)"
   ]
  },
  {
   "cell_type": "code",
   "execution_count": 7,
   "id": "8ee65faf",
   "metadata": {},
   "outputs": [
    {
     "data": {
      "text/plain": [
       "17499"
      ]
     },
     "execution_count": 7,
     "metadata": {},
     "output_type": "execute_result"
    }
   ],
   "source": [
    "len(posts_df)"
   ]
  },
  {
   "cell_type": "markdown",
   "id": "ecc2197d",
   "metadata": {},
   "source": [
    "## Sample 10 posts"
   ]
  },
  {
   "cell_type": "code",
   "execution_count": 8,
   "id": "e2d4cf90",
   "metadata": {},
   "outputs": [
    {
     "data": {
      "text/html": [
       "<div>\n",
       "<style scoped>\n",
       "    .dataframe tbody tr th:only-of-type {\n",
       "        vertical-align: middle;\n",
       "    }\n",
       "\n",
       "    .dataframe tbody tr th {\n",
       "        vertical-align: top;\n",
       "    }\n",
       "\n",
       "    .dataframe thead th {\n",
       "        text-align: right;\n",
       "    }\n",
       "</style>\n",
       "<table border=\"1\" class=\"dataframe\">\n",
       "  <thead>\n",
       "    <tr style=\"text-align: right;\">\n",
       "      <th></th>\n",
       "      <th>Post_ID</th>\n",
       "      <th>Post_Title</th>\n",
       "      <th>Post_Content</th>\n",
       "      <th>Post_Author</th>\n",
       "      <th>Post_Author_Rank</th>\n",
       "      <th>Post_Date</th>\n",
       "      <th>Post_Category</th>\n",
       "      <th>Number_of_Comments</th>\n",
       "      <th>Post_URL</th>\n",
       "    </tr>\n",
       "  </thead>\n",
       "  <tbody>\n",
       "    <tr>\n",
       "      <th>1411</th>\n",
       "      <td>Anxi-1412</td>\n",
       "      <td>EXISTING WITH ANXIETY</td>\n",
       "      <td>My name is Dennis, I am 77, married to an amaz...</td>\n",
       "      <td>DocP</td>\n",
       "      <td>Community Member</td>\n",
       "      <td>05-07-2022</td>\n",
       "      <td>Anxiety</td>\n",
       "      <td>3</td>\n",
       "      <td>/t5/anxiety/existing-with-anxiety/td-p/538634</td>\n",
       "    </tr>\n",
       "    <tr>\n",
       "      <th>7555</th>\n",
       "      <td>Depr-50</td>\n",
       "      <td>Help Please 🙏🏻</td>\n",
       "      <td>To anyone who is reading I really need your he...</td>\n",
       "      <td>Gracie_PY4</td>\n",
       "      <td>Community Member</td>\n",
       "      <td>09-05-2025</td>\n",
       "      <td>Depression</td>\n",
       "      <td>1</td>\n",
       "      <td>/t5/depression/help-please/td-p/610278</td>\n",
       "    </tr>\n",
       "    <tr>\n",
       "      <th>4930</th>\n",
       "      <td>Anxi-4931</td>\n",
       "      <td>Drug Trigger</td>\n",
       "      <td>Hi all, I’ve recently started having anxiety, ...</td>\n",
       "      <td>Scatterbrain</td>\n",
       "      <td>Community Member</td>\n",
       "      <td>14-06-2018</td>\n",
       "      <td>Anxiety</td>\n",
       "      <td>4</td>\n",
       "      <td>/t5/anxiety/drug-trigger/td-p/396705</td>\n",
       "    </tr>\n",
       "    <tr>\n",
       "      <th>10054</th>\n",
       "      <td>Depr-2549</td>\n",
       "      <td>Alone</td>\n",
       "      <td>Hi my name is Lee. I have recently split up wi...</td>\n",
       "      <td>Lee1234</td>\n",
       "      <td>Community Member</td>\n",
       "      <td>20-04-2020</td>\n",
       "      <td>Depression</td>\n",
       "      <td>1</td>\n",
       "      <td>/t5/depression/alone/td-p/492160</td>\n",
       "    </tr>\n",
       "    <tr>\n",
       "      <th>2714</th>\n",
       "      <td>Anxi-2715</td>\n",
       "      <td>Situational anxiety</td>\n",
       "      <td>In 2016 I felt the creep of what was later dia...</td>\n",
       "      <td>Nervous_Nell</td>\n",
       "      <td>Community Member</td>\n",
       "      <td>30-09-2020</td>\n",
       "      <td>Anxiety</td>\n",
       "      <td>1</td>\n",
       "      <td>/t5/anxiety/situational-anxiety/td-p/519977</td>\n",
       "    </tr>\n",
       "    <tr>\n",
       "      <th>101</th>\n",
       "      <td>Anxi-102</td>\n",
       "      <td>Undiagnosed Anxiety</td>\n",
       "      <td>Hi. This discussion is for anyone who either c...</td>\n",
       "      <td>Eurovision_Fan</td>\n",
       "      <td>Community Member</td>\n",
       "      <td>17-03-2025</td>\n",
       "      <td>Anxiety</td>\n",
       "      <td>3</td>\n",
       "      <td>/t5/anxiety/undiagnosed-anxiety/td-p/608342</td>\n",
       "    </tr>\n",
       "    <tr>\n",
       "      <th>12558</th>\n",
       "      <td>Depr-5053</td>\n",
       "      <td>Lost motivation and direction</td>\n",
       "      <td>I feel guilty because I am wasting time and no...</td>\n",
       "      <td>Elizabeth CP</td>\n",
       "      <td>Blue Voices Member</td>\n",
       "      <td>02-01-2016</td>\n",
       "      <td>Depression</td>\n",
       "      <td>8</td>\n",
       "      <td>/t5/depression/lost-motivation-and-direction/t...</td>\n",
       "    </tr>\n",
       "    <tr>\n",
       "      <th>1097</th>\n",
       "      <td>Anxi-1098</td>\n",
       "      <td>Hard start to the year</td>\n",
       "      <td>hey everyone, This year hasn’t gone the way I ...</td>\n",
       "      <td>Heidi_1</td>\n",
       "      <td>Community Member</td>\n",
       "      <td>18-01-2023</td>\n",
       "      <td>Anxiety</td>\n",
       "      <td>2</td>\n",
       "      <td>/t5/anxiety/hard-start-to-the-year/td-p/557173</td>\n",
       "    </tr>\n",
       "    <tr>\n",
       "      <th>10226</th>\n",
       "      <td>Depr-2721</td>\n",
       "      <td>Depressed and sadness</td>\n",
       "      <td>Hello, This is the first time I'm posting a ne...</td>\n",
       "      <td>SilvaLady</td>\n",
       "      <td>Community Member</td>\n",
       "      <td>19-09-2019</td>\n",
       "      <td>Depression</td>\n",
       "      <td>40</td>\n",
       "      <td>/t5/depression/depressed-and-sadness/td-p/468224</td>\n",
       "    </tr>\n",
       "    <tr>\n",
       "      <th>6473</th>\n",
       "      <td>Anxi-6474</td>\n",
       "      <td>Anxiety + Uni nursing placement</td>\n",
       "      <td>I start a 2 week nursing placement in the surg...</td>\n",
       "      <td>Elea</td>\n",
       "      <td>Community Member</td>\n",
       "      <td>07-01-2016</td>\n",
       "      <td>Anxiety</td>\n",
       "      <td>5</td>\n",
       "      <td>/t5/anxiety/anxiety-uni-nursing-placement/td-p...</td>\n",
       "    </tr>\n",
       "  </tbody>\n",
       "</table>\n",
       "</div>"
      ],
      "text/plain": [
       "         Post_ID                       Post_Title  \\\n",
       "1411   Anxi-1412            EXISTING WITH ANXIETY   \n",
       "7555     Depr-50                   Help Please 🙏🏻   \n",
       "4930   Anxi-4931                     Drug Trigger   \n",
       "10054  Depr-2549                            Alone   \n",
       "2714   Anxi-2715              Situational anxiety   \n",
       "101     Anxi-102              Undiagnosed Anxiety   \n",
       "12558  Depr-5053    Lost motivation and direction   \n",
       "1097   Anxi-1098           Hard start to the year   \n",
       "10226  Depr-2721            Depressed and sadness   \n",
       "6473   Anxi-6474  Anxiety + Uni nursing placement   \n",
       "\n",
       "                                            Post_Content     Post_Author  \\\n",
       "1411   My name is Dennis, I am 77, married to an amaz...            DocP   \n",
       "7555   To anyone who is reading I really need your he...      Gracie_PY4   \n",
       "4930   Hi all, I’ve recently started having anxiety, ...    Scatterbrain   \n",
       "10054  Hi my name is Lee. I have recently split up wi...         Lee1234   \n",
       "2714   In 2016 I felt the creep of what was later dia...    Nervous_Nell   \n",
       "101    Hi. This discussion is for anyone who either c...  Eurovision_Fan   \n",
       "12558  I feel guilty because I am wasting time and no...    Elizabeth CP   \n",
       "1097   hey everyone, This year hasn’t gone the way I ...         Heidi_1   \n",
       "10226  Hello, This is the first time I'm posting a ne...       SilvaLady   \n",
       "6473   I start a 2 week nursing placement in the surg...            Elea   \n",
       "\n",
       "         Post_Author_Rank   Post_Date Post_Category  Number_of_Comments  \\\n",
       "1411     Community Member  05-07-2022       Anxiety                   3   \n",
       "7555     Community Member  09-05-2025    Depression                   1   \n",
       "4930     Community Member  14-06-2018       Anxiety                   4   \n",
       "10054    Community Member  20-04-2020    Depression                   1   \n",
       "2714     Community Member  30-09-2020       Anxiety                   1   \n",
       "101      Community Member  17-03-2025       Anxiety                   3   \n",
       "12558  Blue Voices Member  02-01-2016    Depression                   8   \n",
       "1097     Community Member  18-01-2023       Anxiety                   2   \n",
       "10226    Community Member  19-09-2019    Depression                  40   \n",
       "6473     Community Member  07-01-2016       Anxiety                   5   \n",
       "\n",
       "                                                Post_URL  \n",
       "1411       /t5/anxiety/existing-with-anxiety/td-p/538634  \n",
       "7555              /t5/depression/help-please/td-p/610278  \n",
       "4930                /t5/anxiety/drug-trigger/td-p/396705  \n",
       "10054                   /t5/depression/alone/td-p/492160  \n",
       "2714         /t5/anxiety/situational-anxiety/td-p/519977  \n",
       "101          /t5/anxiety/undiagnosed-anxiety/td-p/608342  \n",
       "12558  /t5/depression/lost-motivation-and-direction/t...  \n",
       "1097      /t5/anxiety/hard-start-to-the-year/td-p/557173  \n",
       "10226   /t5/depression/depressed-and-sadness/td-p/468224  \n",
       "6473   /t5/anxiety/anxiety-uni-nursing-placement/td-p...  "
      ]
     },
     "execution_count": 8,
     "metadata": {},
     "output_type": "execute_result"
    }
   ],
   "source": [
    "sampled_posts = posts_df.sample(n=10, random_state=42)\n",
    "sampled_posts"
   ]
  },
  {
   "cell_type": "markdown",
   "id": "3292697e",
   "metadata": {},
   "source": [
    "# List of all Comment_Author_Rank"
   ]
  },
  {
   "cell_type": "code",
   "execution_count": 9,
   "id": "17c6ad61",
   "metadata": {},
   "outputs": [
    {
     "data": {
      "text/plain": [
       "['Beyond Blue Staff',\n",
       " 'Blue Voices Member',\n",
       " 'Champion Alumni',\n",
       " 'Community Champion',\n",
       " 'Community Member',\n",
       " 'Moderator',\n",
       " 'Valued Contributor']"
      ]
     },
     "execution_count": 9,
     "metadata": {},
     "output_type": "execute_result"
    }
   ],
   "source": [
    "unique_ranks = sorted(comments_df['Comment_Author_Rank'].dropna().unique())\n",
    "unique_ranks"
   ]
  },
  {
   "cell_type": "markdown",
   "id": "c5c4fd3f",
   "metadata": {},
   "source": [
    "# Helper Functions"
   ]
  },
  {
   "cell_type": "markdown",
   "id": "15d3cc7f",
   "metadata": {},
   "source": [
    "## `smart_concat()`"
   ]
  },
  {
   "cell_type": "code",
   "execution_count": 10,
   "id": "05bd84f9",
   "metadata": {},
   "outputs": [],
   "source": [
    "def punct_aware_concat(post_title, post_content):\n",
    "    '''Concatenate post title and content intelligently. \n",
    "    If either is missing, return the other. If both are missing, return a default message.\n",
    "    If both are present, concatenate with a separator. The default separator is '. '.\n",
    "    If there is already punctuation at the end of the title or start of the content, avoid double punctuation.\n",
    "    Parameters:\n",
    "        post_title (str): The title of the post.\n",
    "        post_content (str): The content of the post.\n",
    "    Returns:\n",
    "        str: The concatenated string.\n",
    "    '''\n",
    "    if not post_title and not post_content:\n",
    "        return \"No content available\"\n",
    "    if not post_title:\n",
    "        return post_content\n",
    "    if not post_content:\n",
    "        return post_title\n",
    "    if re.match(r'[.!?]$', post_title):\n",
    "        separator = ' '  # No extra punctuation needed\n",
    "    else:\n",
    "        separator = '. '\n",
    "    return f\"{post_title}{separator}{post_content}\""
   ]
  },
  {
   "cell_type": "markdown",
   "id": "c1e55afa",
   "metadata": {},
   "source": [
    "## `check_text()`"
   ]
  },
  {
   "cell_type": "markdown",
   "id": "97c3320a",
   "metadata": {},
   "source": [
    "Using the libraries: Contractions + PySpellChecker + LanguageTool"
   ]
  },
  {
   "cell_type": "code",
   "execution_count": 11,
   "id": "bcdd38ef",
   "metadata": {},
   "outputs": [],
   "source": [
    "# set up Java environment for LanguageTool\n",
    "java_home = r\"C:\\Program Files\\Eclipse Adoptium\\jdk-21.0.8.9-hotspot\"\n",
    "os.environ[\"JAVA_HOME\"] = java_home\n",
    "os.environ[\"PATH\"] = java_home + r\"\\bin;\" + os.environ[\"PATH\"]\n",
    "\n",
    "# Initialize LanguageTool for english\n",
    "tool = language_tool_python.LanguageTool('en')  # English\n",
    "\n",
    "def check_text(text):\n",
    "    '''Check and correct grammar and spelling in the given text.\n",
    "    Args:\n",
    "        text (str): The input text to be checked and corrected.\n",
    "    Returns:\n",
    "        str: The corrected text.\n",
    "    '''\n",
    "    # strip leading/trailing whitespace\n",
    "    text = text.strip()\n",
    "    \n",
    "    # Expand contractions\n",
    "    text = contractions.fix(text)\n",
    "\n",
    "    # Check grammar only\n",
    "    matches = tool.check(text)\n",
    "    text = language_tool_python.utils.correct(text, matches)\n",
    "\n",
    "    # Check for spelling errors\n",
    "    spell = SpellChecker()\n",
    "    \n",
    "    # Tokenize while preserving punctuation\n",
    "    tokens = re.findall(r\"\\w+|[^\\w\\s]\", text, re.UNICODE)\n",
    "    \n",
    "    corrected_tokens = []\n",
    "    for token in tokens:\n",
    "        if token.isalpha():\n",
    "            corrected = spell.correction(token)\n",
    "            corrected_tokens.append(corrected if corrected else token)\n",
    "        else:\n",
    "            corrected_tokens.append(token)\n",
    "    \n",
    "    # Reconstruct the paragraph\n",
    "    corrected_text = \"\"\n",
    "    for i, token in enumerate(corrected_tokens):\n",
    "        if i > 0:\n",
    "            prev = corrected_tokens[i - 1]\n",
    "            # Add space if both current and previous tokens are alphanumeric\n",
    "            if (token.isalnum() and prev.isalnum()) or (prev.isalnum() and token in ['(', '[']):\n",
    "                corrected_text += \" \"\n",
    "            # Add space after punctuation if needed\n",
    "            elif prev in ['.', ',', ';', ':', '?', '!'] and token.isalnum():\n",
    "                corrected_text += \" \"\n",
    "        corrected_text += token\n",
    "\n",
    "    return corrected_text"
   ]
  },
  {
   "cell_type": "markdown",
   "id": "2bf8435d",
   "metadata": {},
   "source": [
    "## `filter_comments_by_post()`"
   ]
  },
  {
   "cell_type": "code",
   "execution_count": 12,
   "id": "08deee0d",
   "metadata": {},
   "outputs": [],
   "source": [
    "def filter_comments_by_post(df_comments, post_id):\n",
    "    '''Filter comments based on the given post ID.\n",
    "    Args:\n",
    "        df_comments (pd.DataFrame): DataFrame containing comments with a 'post_id' column.\n",
    "        post_id (str): The post ID to filter comments by.\n",
    "    Returns:\n",
    "        pd.DataFrame: Filtered DataFrame containing comments for the specified post ID.\n",
    "    '''\n",
    "    filtered_comments = df_comments[df_comments['Post_ID'] == post_id].copy()\n",
    "    return filtered_comments"
   ]
  },
  {
   "cell_type": "markdown",
   "id": "6cd476f7",
   "metadata": {},
   "source": [
    "## `get_post_title_content()`"
   ]
  },
  {
   "cell_type": "code",
   "execution_count": 13,
   "id": "22fd845c",
   "metadata": {},
   "outputs": [],
   "source": [
    "def get_post_title_content(sample=None, post_id=None):\n",
    "    '''Print the title and content of a post sample. If there is a sample, use the sample's title and content.\n",
    "    If no sample is provided, use the post_id to fetch the post details \n",
    "    Args:\n",
    "        sample (pd.Series): A pandas Series representing a post with 'Post_Title' and 'Post_Content' columns.\n",
    "        post_id (str, optional): The post ID to display. Defaults to None.\n",
    "    Returns:\n",
    "        None\n",
    "    '''\n",
    "    if sample is None and post_id is None:\n",
    "        print(\"No sample or post_id provided.\")\n",
    "        return\n",
    "    if sample is None and post_id is not None:\n",
    "        global posts_df\n",
    "        match = posts_df.loc[posts_df['Post_ID'] == post_id, 'Post_Content']\n",
    "        if match.empty:\n",
    "            print(\"Post ID not found in posts_df\")\n",
    "        else:\n",
    "            for i, content in enumerate(match.tolist(), 1):\n",
    "                title = posts_df.loc[posts_df['Post_ID'] == post_id, 'Post_Title'].values[0]\n",
    "                content = posts_df.loc[posts_df['Post_ID'] == post_id, 'Post_Content'].values[0]\n",
    "    if sample is not None:\n",
    "        title = sample['Post_Title']\n",
    "        content = sample['Post_Content']    \n",
    "    \n",
    "    return punct_aware_concat(title, content)"
   ]
  },
  {
   "cell_type": "markdown",
   "id": "ba31a408",
   "metadata": {},
   "source": [
    "## `get_comment_content()`"
   ]
  },
  {
   "cell_type": "code",
   "execution_count": 14,
   "id": "9e457c88",
   "metadata": {},
   "outputs": [],
   "source": [
    "def get_comment_content(sample=None, comment_id=None):\n",
    "    '''Print the content of a comment sample. If there is a sample, use the sample's content.\n",
    "    If no sample is provided, use the comment_id to fetch the comment details \n",
    "    Args:\n",
    "        sample (pd.Series): A pandas Series representing a comment with 'Comment_Content' column.\n",
    "        comment_id (str, optional): The comment ID to display. Defaults to None.\n",
    "    Returns:\n",
    "        None\n",
    "    '''\n",
    "    if sample is None and comment_id is None:\n",
    "        print(\"No sample or comment_id provided.\")\n",
    "        return\n",
    "    if sample is None and comment_id is not None:\n",
    "        global comments_df\n",
    "        match = comments_df.loc[comments_df['Comment_ID'] == comment_id, 'Comment_Content']\n",
    "        if match.empty:\n",
    "            print(\"Comment ID not found in comments_df\")\n",
    "        else:\n",
    "            for i, content in enumerate(match.tolist(), 1):\n",
    "                content = comments_df.loc[comments_df['Comment_ID'] == comment_id, 'Comment_Content'].values[0]\n",
    "    if sample is not None:\n",
    "        content = sample['Comment_Content']\n",
    "\n",
    "    return content"
   ]
  },
  {
   "cell_type": "markdown",
   "id": "c74b5173",
   "metadata": {},
   "source": [
    "## `is_post_author_commented()`"
   ]
  },
  {
   "cell_type": "code",
   "execution_count": 15,
   "id": "9344f377",
   "metadata": {},
   "outputs": [],
   "source": [
    "def is_post_author_commented(author_id, df_comments):\n",
    "    '''Check if the post author has commented in the comments DataFrame.\n",
    "    Args:\n",
    "        author (str): The author's name to check for.\n",
    "        df_comments (pd.DataFrame): DataFrame containing comments with an 'Author' column.\n",
    "    Returns:\n",
    "        bool: True if the author has commented, False otherwise.\n",
    "    '''\n",
    "    return author_id in df_comments['Comment_Author'].values"
   ]
  },
  {
   "cell_type": "markdown",
   "id": "2b397dea",
   "metadata": {},
   "source": [
    "## `get_post_url()`"
   ]
  },
  {
   "cell_type": "code",
   "execution_count": 21,
   "id": "c39571a6",
   "metadata": {},
   "outputs": [],
   "source": [
    "def get_post_url(post_id, posts_df):\n",
    "    ''' return the post url based on the post_id '''\n",
    "    post = posts_df[posts_df['Post_ID'] == post_id]\n",
    "    return 'https://forums.beyondblue.org.au/' + post['Post_URL'].values[0] if not post.empty else None"
   ]
  },
  {
   "cell_type": "markdown",
   "id": "587d4def",
   "metadata": {},
   "source": [
    "## `merge_table()`"
   ]
  },
  {
   "cell_type": "code",
   "execution_count": 99,
   "id": "0ecd73ab",
   "metadata": {},
   "outputs": [],
   "source": [
    "def merge_table(posts_df, comments_df):\n",
    "    '''Merge a post sample with its associated comments.\n",
    "    Args:\n",
    "        posts_df (pd.DataFrame): A DataFrame representing posts.\n",
    "        comments_df (pd.DataFrame): DataFrame containing comments with a 'Post_ID' column.\n",
    "    Returns:\n",
    "        pd.DataFrame: A DataFrame containing the post details and its associated comments.\n",
    "    '''\n",
    "    # check if posts_df and comments_df are not None\n",
    "    if posts_df is None or comments_df is None:\n",
    "        return None\n",
    "\n",
    "    # Initialize an empty list to hold the merged results\n",
    "    merged_list = list()\n",
    "    \n",
    "    # iterate through posts_df\n",
    "    for row in tqdm(posts_df.itertuples(index=False, name=\"Post\"), total=len(posts_df)):\n",
    "        post_id = row.Post_ID\n",
    "        post_author = row.Post_Author\n",
    "        post_title = row.Post_Title\n",
    "        post_content = row.Post_Content\n",
    "        \n",
    "        # Filter comments for the given post_id\n",
    "        filtered_comments = filter_comments_by_post(comments_df, post_id)\n",
    "\n",
    "        # check if the post author has commented\n",
    "        author_commented = is_post_author_commented(post_author, filtered_comments)\n",
    "        # If author has commented, include the post in the merged DataFrame\n",
    "        if author_commented:\n",
    "            # get the post title and content\n",
    "            post_text = punct_aware_concat(post_title, post_content)\n",
    "            # correct the post text\n",
    "            post_text = check_text(post_text)\n",
    "            # get author's last comment\n",
    "            # if the author has multiple comments, get the last one\n",
    "            # if the last comment by the author is not a string (NaN), get the previous one\n",
    "            # loop through the author's comments in reverse order to find the last valid comment            \n",
    "            author_last_comment = None\n",
    "            for comment in filtered_comments[filtered_comments['Comment_Author'] == post_author].iloc[::-1].itertuples(index=False):\n",
    "                if isinstance(comment.Comment_Content, str):\n",
    "                    author_last_comment = comment\n",
    "                    break\n",
    "            if author_last_comment is None:\n",
    "                continue  # skip if no valid comment found            \n",
    "            # get author's last comment id\n",
    "            author_last_comment_id = author_last_comment.Comment_ID\n",
    "            # create a new row (dictionary) for the merged DataFrame\n",
    "            new_row = {\n",
    "                \"Post_ID\": post_id,\n",
    "                \"Author\": post_author,\n",
    "                \"Author_Post\": post_text,\n",
    "                \"Author_Last_Comment\": check_text(author_last_comment.Comment_Content),\n",
    "            }            \n",
    "            # create columns for each unique ranks with default value of 0\n",
    "            for rank in unique_ranks:\n",
    "                new_row[rank] = 0\n",
    "            # iterate filtered comments and count ranks before the author's last comment\n",
    "            for comment in filtered_comments.itertuples(index=False, name=\"Comment\"):\n",
    "                if comment.Comment_ID == author_last_comment_id:\n",
    "                    break # stop counting when reaching author's last comment\n",
    "                if comment.Comment_Author == post_author:\n",
    "                    continue # skip author's own comments\n",
    "                rank = comment.Comment_Author_Rank\n",
    "                new_row[rank] += 1\n",
    "\n",
    "            # append the new row to the merged list\n",
    "            merged_list.append(new_row)\n",
    "\n",
    "    merged_df = pd.DataFrame(merged_list)\n",
    "\n",
    "\n",
    "    return merged_df"
   ]
  },
  {
   "cell_type": "code",
   "execution_count": null,
   "id": "0a2966e1",
   "metadata": {},
   "outputs": [],
   "source": [
    "merged_table = merge_table(posts_df=posts_df, comments_df=comments_df)\n",
    "merged_table.head()"
   ]
  },
  {
   "cell_type": "code",
   "execution_count": null,
   "id": "3759b637",
   "metadata": {},
   "outputs": [],
   "source": [
    "merged_table.to_csv('./data/BeyondBlue/commented_post_authors.csv', index=False)"
   ]
  },
  {
   "cell_type": "markdown",
   "id": "e91c4a4b",
   "metadata": {},
   "source": [
    "# Testings"
   ]
  },
  {
   "cell_type": "markdown",
   "id": "2d9856c9",
   "metadata": {},
   "source": [
    "## Sample Post"
   ]
  },
  {
   "cell_type": "code",
   "execution_count": 13,
   "id": "fba33ff1",
   "metadata": {},
   "outputs": [
    {
     "data": {
      "text/plain": [
       "Post_ID                                                       Anxi-1412\n",
       "Post_Title                                        EXISTING WITH ANXIETY\n",
       "Post_Content          My name is Dennis, I am 77, married to an amaz...\n",
       "Post_Author                                                        DocP\n",
       "Post_Author_Rank                                       Community Member\n",
       "Post_Date                                                    05-07-2022\n",
       "Post_Category                                                   Anxiety\n",
       "Number_of_Comments                                                    3\n",
       "Post_URL                  /t5/anxiety/existing-with-anxiety/td-p/538634\n",
       "Name: 1411, dtype: object"
      ]
     },
     "execution_count": 13,
     "metadata": {},
     "output_type": "execute_result"
    }
   ],
   "source": [
    "# Sample one observation from posts_df\n",
    "post_sample = posts_df.sample(n=1, random_state=42).iloc[0]\n",
    "post_sample"
   ]
  },
  {
   "cell_type": "markdown",
   "id": "d1ec91f4",
   "metadata": {},
   "source": [
    "## Print post title and content"
   ]
  },
  {
   "cell_type": "code",
   "execution_count": 14,
   "id": "a823afb0",
   "metadata": {},
   "outputs": [
    {
     "data": {
      "text/plain": [
       "\"EXISTING WITH ANXIETY. My name is Dennis, I am 77, married to an amazing lady for 55years who has been with me through thick and thin. I have had anxiety even before I knew the word. I try not to blame my condition on my early childhood but it is so hard. My last relapse was triggered when we moved to a rural area and I couldn't handle it so we returned to Adelaide and rented the house.i am at present being treated by The Older Persons Health Team who I cannot speak to highly about. Up to now I have not been one to conform to medication but I relize if I don't I won' t get better. Can anyone suggest more up to date texts on anxiety?\""
      ]
     },
     "execution_count": 14,
     "metadata": {},
     "output_type": "execute_result"
    }
   ],
   "source": [
    "get_post_title_content(post_sample)"
   ]
  },
  {
   "cell_type": "code",
   "execution_count": 15,
   "id": "9a5c6691",
   "metadata": {},
   "outputs": [
    {
     "data": {
      "text/plain": [
       "Post_ID                                                          Anxi-92\n",
       "Comment_ID                                           Anxi-92_comment-147\n",
       "Comment_Content        For me, symptoms of anxiety can be: Sweating a...\n",
       "Comment_Author                                                Guest_4643\n",
       "Comment_Author_Rank                                     Community Member\n",
       "Comment_Date                                                  02-03-2020\n",
       "Comment_Datetime                                     2020-03-02 19:43:00\n",
       "Comment_Category                                                 Anxiety\n",
       "Name: 63259, dtype: object"
      ]
     },
     "execution_count": 15,
     "metadata": {},
     "output_type": "execute_result"
    }
   ],
   "source": [
    "# sample one observation from comments_df\n",
    "comment_sample = comments_df.sample(n=1, random_state=42).iloc[0]\n",
    "comment_sample"
   ]
  },
  {
   "cell_type": "markdown",
   "id": "bab36c69",
   "metadata": {},
   "source": [
    "## Print comment"
   ]
  },
  {
   "cell_type": "code",
   "execution_count": 16,
   "id": "8cb37a27",
   "metadata": {},
   "outputs": [
    {
     "data": {
      "text/plain": [
       "'For me, symptoms of anxiety can be: Sweating a lot. Heart palpitations, sometimes chest pain (but it\\'s bearable). Dry mouth and sore throat, or a \"lump in my throat\" if you will. Nausea, sometimes vomiting and stomach problems like gastro. Excessive thoughts of course, bad ones. And probably more, I can\\'t think of any more currently. Sorry to hear that so many others deal with anxiety and the symptoms everyone here has too. Thinking of you all here. Tayla'"
      ]
     },
     "execution_count": 16,
     "metadata": {},
     "output_type": "execute_result"
    }
   ],
   "source": [
    "get_comment_content(comment_sample)"
   ]
  },
  {
   "cell_type": "markdown",
   "id": "ae8ae8e2",
   "metadata": {},
   "source": [
    "## Testing the `check_text()` function"
   ]
  },
  {
   "cell_type": "code",
   "execution_count": 17,
   "id": "4085d5dc",
   "metadata": {},
   "outputs": [
    {
     "name": "stdout",
     "output_type": "stream",
     "text": [
      "Original:\n",
      " My name is Dennis, I am 77, married to an amazing lady for 55years who has been with me through thick and thin. I have had anxiety even before I knew the word. I try not to blame my condition on my early childhood but it is so hard. My last relapse was triggered when we moved to a rural area and I couldn't handle it so we returned to Adelaide and rented the house.i am at present being treated by The Older Persons Health Team who I cannot speak to highly about. Up to now I have not been one to conform to medication but I relize if I don't I won' t get better. Can anyone suggest more up to date texts on anxiety? \n",
      "\n",
      "Corrected:\n",
      " My name is Dennis, I am 77, married to an amazing lady for 55 years who has been with me through thick and thin. I have had anxiety even before I knew the word. I try not to blame my condition on my early childhood but it is so hard. My last relapse was triggered when we moved to a rural area and I could not handle it so we returned to Adelaide and rented the house. I am at present being treated by The Older Persons Health Team who I cannot speak to highly about. Up to now I have not been one to conform to medication but I realize if I do not I won't get better. Can anyone suggest more up-to-date texts on anxiety?\n"
     ]
    }
   ],
   "source": [
    "col = 'Post_Content' if 'Post_Content' in posts_df.columns else posts_df.columns[0]\n",
    "original = post_sample[col]\n",
    "print(\"Original:\\n\", original, \"\\n\")\n",
    "if isinstance(original, str) and original.strip():\n",
    "    corrected = check_text(original)\n",
    "else:\n",
    "    corrected = original\n",
    "print(\"Corrected:\\n\", corrected)"
   ]
  },
  {
   "cell_type": "markdown",
   "id": "1ad00904",
   "metadata": {},
   "source": [
    "## Testing the `filter_comments_by_post()` function"
   ]
  },
  {
   "cell_type": "code",
   "execution_count": 18,
   "id": "419364dd",
   "metadata": {},
   "outputs": [
    {
     "data": {
      "text/html": [
       "<div>\n",
       "<style scoped>\n",
       "    .dataframe tbody tr th:only-of-type {\n",
       "        vertical-align: middle;\n",
       "    }\n",
       "\n",
       "    .dataframe tbody tr th {\n",
       "        vertical-align: top;\n",
       "    }\n",
       "\n",
       "    .dataframe thead th {\n",
       "        text-align: right;\n",
       "    }\n",
       "</style>\n",
       "<table border=\"1\" class=\"dataframe\">\n",
       "  <thead>\n",
       "    <tr style=\"text-align: right;\">\n",
       "      <th></th>\n",
       "      <th>Post_ID</th>\n",
       "      <th>Comment_ID</th>\n",
       "      <th>Comment_Content</th>\n",
       "      <th>Comment_Author</th>\n",
       "      <th>Comment_Author_Rank</th>\n",
       "      <th>Comment_Date</th>\n",
       "      <th>Comment_Datetime</th>\n",
       "      <th>Comment_Category</th>\n",
       "    </tr>\n",
       "  </thead>\n",
       "  <tbody>\n",
       "    <tr>\n",
       "      <th>69703</th>\n",
       "      <td>Anxi-1412</td>\n",
       "      <td>Anxi-1412_comment-1</td>\n",
       "      <td>Hi DocPI don’t have experience with meds but I...</td>\n",
       "      <td>rhombusslope</td>\n",
       "      <td>Community Member</td>\n",
       "      <td>17-07-2022</td>\n",
       "      <td>2022-07-17 23:29:00</td>\n",
       "      <td>Anxiety</td>\n",
       "    </tr>\n",
       "    <tr>\n",
       "      <th>69704</th>\n",
       "      <td>Anxi-1412</td>\n",
       "      <td>Anxi-1412_comment-2</td>\n",
       "      <td>Dear DocP I'm really sorry that you haven't ha...</td>\n",
       "      <td>ecomama</td>\n",
       "      <td>Valued Contributor</td>\n",
       "      <td>17-07-2022</td>\n",
       "      <td>2022-07-17 23:50:00</td>\n",
       "      <td>Anxiety</td>\n",
       "    </tr>\n",
       "    <tr>\n",
       "      <th>69705</th>\n",
       "      <td>Anxi-1412</td>\n",
       "      <td>Anxi-1412_comment-3</td>\n",
       "      <td>Hello Dennis, and a warm welcome to the forums...</td>\n",
       "      <td>geoff</td>\n",
       "      <td>Champion Alumni</td>\n",
       "      <td>18-07-2022</td>\n",
       "      <td>2022-07-18 02:41:00</td>\n",
       "      <td>Anxiety</td>\n",
       "    </tr>\n",
       "  </tbody>\n",
       "</table>\n",
       "</div>"
      ],
      "text/plain": [
       "         Post_ID           Comment_ID  \\\n",
       "69703  Anxi-1412  Anxi-1412_comment-1   \n",
       "69704  Anxi-1412  Anxi-1412_comment-2   \n",
       "69705  Anxi-1412  Anxi-1412_comment-3   \n",
       "\n",
       "                                         Comment_Content Comment_Author  \\\n",
       "69703  Hi DocPI don’t have experience with meds but I...   rhombusslope   \n",
       "69704  Dear DocP I'm really sorry that you haven't ha...        ecomama   \n",
       "69705  Hello Dennis, and a warm welcome to the forums...          geoff   \n",
       "\n",
       "      Comment_Author_Rank Comment_Date     Comment_Datetime Comment_Category  \n",
       "69703    Community Member   17-07-2022  2022-07-17 23:29:00          Anxiety  \n",
       "69704  Valued Contributor   17-07-2022  2022-07-17 23:50:00          Anxiety  \n",
       "69705     Champion Alumni   18-07-2022  2022-07-18 02:41:00          Anxiety  "
      ]
     },
     "execution_count": 18,
     "metadata": {},
     "output_type": "execute_result"
    }
   ],
   "source": [
    "filtered_comments = filter_comments_by_post(comments_df, \"Anxi-1412\")\n",
    "filtered_comments"
   ]
  },
  {
   "cell_type": "code",
   "execution_count": 19,
   "id": "fb641782",
   "metadata": {},
   "outputs": [
    {
     "name": "stdout",
     "output_type": "stream",
     "text": [
      "\n",
      "--- Post 1 (Post_ID=Depr-6474) ---\n",
      "\n",
      "I broke down again yesterday and wanted to end it all. I would never do it, but its the only thought that I have atm. I think about how bad I feel every day and I just want these feelings to go away. I dont know where to go from here. I feel like I just exist with no purpose what so ever. I have lost the will and motivation for life and have completely lost myself in the process and it scares me that I will never feel happy again. I just feel empty inside. I go to work as a distraction and try to fill up my weekend with things to do, but I dont get any enjoyment out of it. I feel like I have hit rock bottom and I am trying to get out of it, but I dont know where to go from here. I feel so alone, even though I have good friends, I just don't feel they understand. I feel guilty because my family know that I am not being myself but I dont know how to find myself again. I am on anti-depressants and am seeing a psychologist, but I feel like its not enough atm....I am so lost\n"
     ]
    }
   ],
   "source": [
    "\n",
    "post_id = 'Depr-6474'\n",
    "\n",
    "if 'Post_ID' not in posts_df.columns:\n",
    "    print(\"Column 'Post_ID' not found in posts_df\")\n",
    "else:\n",
    "    match = posts_df.loc[posts_df['Post_ID'] == post_id, 'Post_Content']\n",
    "    if match.empty:\n",
    "        print(f\"No post found with Post_ID {post_id}\")\n",
    "    else:\n",
    "        for i, content in enumerate(match.tolist(), 1):\n",
    "            print(f\"\\n--- Post {i} (Post_ID={post_id}) ---\\n\")\n",
    "            if isinstance(content, str):\n",
    "                print(content)\n",
    "            else:\n",
    "                print(repr(content))\n"
   ]
  }
 ],
 "metadata": {
  "kernelspec": {
   "display_name": "Python 3",
   "language": "python",
   "name": "python3"
  },
  "language_info": {
   "codemirror_mode": {
    "name": "ipython",
    "version": 3
   },
   "file_extension": ".py",
   "mimetype": "text/x-python",
   "name": "python",
   "nbconvert_exporter": "python",
   "pygments_lexer": "ipython3",
   "version": "3.12.10"
  }
 },
 "nbformat": 4,
 "nbformat_minor": 5
}
